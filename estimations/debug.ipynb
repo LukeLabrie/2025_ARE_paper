{
 "cells": [
  {
   "cell_type": "code",
   "execution_count": 1,
   "metadata": {},
   "outputs": [],
   "source": [
    "from relaxations_modular import relax_fb_analytical\n",
    "from parameters import *"
   ]
  },
  {
   "cell_type": "code",
   "execution_count": 2,
   "metadata": {},
   "outputs": [],
   "source": [
    "# params = [0.01117443, 0.01157201, 0.00073944, 0.00819707, 0.00347761, \n",
    "#           0.00782532, 0.00232722, 0.00598841, 0.07557605, 0.001842,   \n",
    "#           0.00898831]\n",
    "\n",
    "params_fb_estimation = [-6.10e-05,  1.4e-05,  3.00e-05] \n"
   ]
  },
  {
   "cell_type": "code",
   "execution_count": 3,
   "metadata": {},
   "outputs": [],
   "source": [
    "# hA_ft_c, hA_tc_c, hA_mc_c, hA_ft_hx, hA_ht_hx, hA_ct_hx, hA_th_hxch, \\\n",
    "#     hA_ht_hxhw, hA_tw_hxhw, hA_ht_hxhwc, hA_tw_hxhwc = params\n",
    "\n"
   ]
  },
  {
   "cell_type": "code",
   "execution_count": 4,
   "metadata": {},
   "outputs": [
    {
     "name": "stdout",
     "output_type": "stream",
     "text": [
      "finalizing integrator...\n",
      "integrating...\n"
     ]
    },
    {
     "name": "stderr",
     "output_type": "stream",
     "text": [
      "Integration progress:   0%|          | 0/4000 [00:00<?, ?it/s]"
     ]
    },
    {
     "name": "stdout",
     "output_type": "stream",
     "text": [
      "Generating, compiling, and loading C code.\n"
     ]
    },
    {
     "name": "stderr",
     "output_type": "stream",
     "text": [
      "Integration progress: 100%|██████████| 4000/4000 [00:01<00:00, 3771.07it/s]\n"
     ]
    }
   ],
   "source": [
    "m, sol = relax_fb_analytical(params_fb_estimation)"
   ]
  },
  {
   "cell_type": "code",
   "execution_count": 5,
   "metadata": {},
   "outputs": [
    {
     "ename": "IndexError",
     "evalue": "index -1 is out of bounds for axis 0 with size 0",
     "output_type": "error",
     "traceback": [
      "\u001b[31m---------------------------------------------------------------------------\u001b[39m",
      "\u001b[31mIndexError\u001b[39m                                Traceback (most recent call last)",
      "\u001b[36mCell\u001b[39m\u001b[36m \u001b[39m\u001b[32mIn[5]\u001b[39m\u001b[32m, line 1\u001b[39m\n\u001b[32m----> \u001b[39m\u001b[32m1\u001b[39m power = \u001b[32m2.10\u001b[39m * \u001b[43mm\u001b[49m\u001b[43m.\u001b[49m\u001b[43mnodes\u001b[49m\u001b[43m[\u001b[49m\u001b[33;43m'\u001b[39;49m\u001b[33;43mn\u001b[39;49m\u001b[33;43m'\u001b[39;49m\u001b[43m]\u001b[49m\u001b[43m.\u001b[49m\u001b[43my_out\u001b[49m\u001b[43m[\u001b[49m\u001b[43m-\u001b[49m\u001b[32;43m1\u001b[39;49m\u001b[43m]\u001b[49m\n\u001b[32m      2\u001b[39m dT_fuel = m.nodes[\u001b[33m'\u001b[39m\u001b[33mc_f2\u001b[39m\u001b[33m'\u001b[39m].y_out[-\u001b[32m1\u001b[39m] - (m.nodes[\u001b[33m'\u001b[39m\u001b[33mhx_fh1_f2\u001b[39m\u001b[33m'\u001b[39m].y_out[-\u001b[32m1\u001b[39m] + m.nodes[\u001b[33m'\u001b[39m\u001b[33mhx_fh2_f2\u001b[39m\u001b[33m'\u001b[39m].y_out[-\u001b[32m1\u001b[39m]) / \u001b[32m2\u001b[39m\n\u001b[32m      3\u001b[39m dT_coolant = m.nodes[\u001b[33m'\u001b[39m\u001b[33mc_c2\u001b[39m\u001b[33m'\u001b[39m].y_out[-\u001b[32m1\u001b[39m] - (m.nodes[\u001b[33m'\u001b[39m\u001b[33mhx_ch1_c2\u001b[39m\u001b[33m'\u001b[39m].y_out[-\u001b[32m1\u001b[39m] + m.nodes[\u001b[33m'\u001b[39m\u001b[33mhx_ch2_c2\u001b[39m\u001b[33m'\u001b[39m].y_out[-\u001b[32m1\u001b[39m]) / \u001b[32m2\u001b[39m\n",
      "\u001b[31mIndexError\u001b[39m: index -1 is out of bounds for axis 0 with size 0"
     ]
    }
   ],
   "source": [
    "power = 2.10 * m.nodes['n'].y_out[-1]\n",
    "dT_fuel = m.nodes['c_f2'].y_out[-1] - (m.nodes['hx_fh1_f2'].y_out[-1] + m.nodes['hx_fh2_f2'].y_out[-1]) / 2\n",
    "dT_coolant = m.nodes['c_c2'].y_out[-1] - (m.nodes['hx_ch1_c2'].y_out[-1] + m.nodes['hx_ch2_c2'].y_out[-1]) / 2\n",
    "Q_fuel = scp_f * W_f * dT_fuel\n",
    "Q_coolant = scp_c * W_c * dT_coolant\n",
    "Q_fuel_pct = Q_fuel / power\n",
    "Q_coolant_pct = Q_coolant / power\n",
    "\n",
    "print(f\"power: {power}\")\n",
    "print(f\"dT fuel: {dT_fuel}\")\n",
    "print(f\"dT coolant: {dT_coolant}\")\n",
    "print(f\"Q_fuel: {Q_fuel}\")\n",
    "print(f\"Q_coolant: {Q_coolant}\")\n",
    "print(f\"Q_fuel pct: {Q_fuel_pct}\")\n",
    "print(f\"Q_coolant pct: {Q_coolant_pct}\")\n",
    "print()\n",
    "print(f\"delta P: {(power-2.10)/2.10}\")\n",
    "print(f\"delta dTf: {(dT_fuel-174)/174}\")\n",
    "print(f\"delta dTc: {(dT_coolant-61)/61}\")\n",
    "print(f\"delta Qf: {(Q_fuel-1.52)/1.52}\")\n",
    "print(f\"delta Qc: {(Q_coolant-0.58)/0.58}\")\n",
    "print(f\"delta Qf_pct: {(Q_fuel_pct-0.72)/0.72}\")\n",
    "print(f\"delta Qc_pct: {(Q_coolant_pct-0.28)/0.28}\")"
   ]
  },
  {
   "cell_type": "code",
   "execution_count": 6,
   "metadata": {},
   "outputs": [
    {
     "data": {
      "text/plain": [
       "[<matplotlib.lines.Line2D at 0x79616a573a10>]"
      ]
     },
     "execution_count": 6,
     "metadata": {},
     "output_type": "execute_result"
    },
    {
     "data": {
      "image/png": "[encoded data removed]",
      "text/plain": [
       "<Figure size 640x480 with 1 Axes>"
      ]
     },
     "metadata": {},
     "output_type": "display_data"
    }
   ],
   "source": [
    "import matplotlib.pyplot as plt\n",
    "plt.plot([s[6] for s in sol])"
   ]
  }
 ],
 "metadata": {
  "kernelspec": {
   "display_name": "onion_dynamics",
   "language": "python",
   "name": "python3"
  },
  "language_info": {
   "codemirror_mode": {
    "name": "ipython",
    "version": 3
   },
   "file_extension": ".py",
   "mimetype": "text/x-python",
   "name": "python",
   "nbconvert_exporter": "python",
   "pygments_lexer": "ipython3",
   "version": "3.12.8"
  }
 },
 "nbformat": 4,
 "nbformat_minor": 2
}
